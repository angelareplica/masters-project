{
 "cells": [
  {
   "cell_type": "code",
   "execution_count": 34,
   "metadata": {},
   "outputs": [],
   "source": [
    "import csv\n",
    "import numpy as np\n",
    "import statistics\n",
    "import matplotlib.pyplot as plt"
   ]
  },
  {
   "cell_type": "code",
   "execution_count": 35,
   "metadata": {},
   "outputs": [
    {
     "name": "stderr",
     "output_type": "stream",
     "text": [
      "/Users/angelawang/.pyenv/versions/3.6.5/lib/python3.6/site-packages/ipykernel_launcher.py:2: DeprecationWarning: 'U' mode is deprecated\n",
      "  \n"
     ]
    }
   ],
   "source": [
    "# Reading in my CSV\n",
    "data_file = open(\"litreleases_ponzi_analysis_UPDATED.csv\", \"rU\") "
   ]
  },
  {
   "cell_type": "code",
   "execution_count": 36,
   "metadata": {},
   "outputs": [],
   "source": [
    "# convert to DictReader\n",
    "# convert rows to dictionaries, so we can pull data by field name\n",
    "data_reader = csv.DictReader(data_file)\n"
   ]
  },
  {
   "cell_type": "code",
   "execution_count": 37,
   "metadata": {},
   "outputs": [
    {
     "name": "stdout",
     "output_type": "stream",
     "text": [
      "Investors_Int\n"
     ]
    }
   ],
   "source": [
    "print(data_reader.fieldnames[10])"
   ]
  },
  {
   "cell_type": "code",
   "execution_count": 38,
   "metadata": {},
   "outputs": [],
   "source": [
    "# Build \"average amount of money lost per investor\" for each ponzi scheme/row\n",
    "average_lost_per_investor = [] # empty list that will become new column\n",
    "\n",
    "# Set up exception block\n",
    "for row in data_reader:\n",
    "  try:\n",
    "    # DictReader creates a list of column headers called \"fieldnames\"\n",
    "    # I will use the indices of this to grab the column value and cast it as a float\n",
    "    investors_number = float(row[data_reader.fieldnames[10]])\n",
    "    money_raised = float(row[data_reader.fieldnames[12]])\n",
    "    average_lost_per_investor.append((money_raised / investors_number) * 1000000) # multiplying by 1000000 here to convert units from millions to dollars\n",
    "  \n",
    "  except Exception:\n",
    "    pass\n",
    "\n"
   ]
  },
  {
   "cell_type": "code",
   "execution_count": 39,
   "metadata": {},
   "outputs": [],
   "source": [
    "# Customizing the appearance of my plot\n",
    "plt.rcdefaults()\n",
    "plt.rcParams.update({\n",
    "    'pdf.fonttype': 42,\n",
    "    'ps.fonttype': 42,\n",
    "    'figure.facecolor' : '#e8e8e8',\n",
    "    'axes.facecolor' : '#e8e8e8',\n",
    "    'axes.spines.left'   : True,   \n",
    "    'axes.spines.bottom' : True,\n",
    "    'axes.spines.top'    : False,\n",
    "    'axes.spines.right' : False,\n",
    "    'axes.linewidth'     : 0.25 \n",
    "})\n"
   ]
  },
  {
   "cell_type": "code",
   "execution_count": 41,
   "metadata": {},
   "outputs": [
    {
     "name": "stdout",
     "output_type": "stream",
     "text": [
      "The mean is $ 523213 lost per investor\n",
      "The median is $ 150000 lost per investor\n",
      "The 25%, 50%, and 75% quartile values are [ 66666.66666667 150000.         290322.58064516]\n",
      "The mean and standard deviation values are [523212.58774180815, 523212.58774180815, 523212.58774180815, 2764989.2407391835, -1718564.0652555674, 5006765.893736559, -3960340.718252943, 7248542.546733934, -6202117.371250318]\n"
     ]
    }
   ],
   "source": [
    "# plot histogram of average amount lost per investor in each scheme\n",
    "my_hist = plt.hist(average_lost_per_investor, histtype=\"bar\", color=\"#464555\")\n",
    "\n",
    "# calculate quartiles\n",
    "quartiles = np.percentile(average_lost_per_investor, [25, 50, 75])\n",
    "iqr = quartiles[2] - quartiles[0]\n",
    "upper_bound = quartiles[2] + (1.5*iqr)\n",
    "lower_bound = quartiles[0] - (1.5*iqr)\n",
    "\n",
    "# plot the quartiles in orange\n",
    "plt.vlines(quartiles, 0, 250, color=['#ffc75f', '#ffc75f', '#ffc75f'], linestyle='dashed', linewidth=1)\n",
    "\n",
    "# plot the upper and lower bounds in orange\n",
    "plt.vlines([upper_bound, lower_bound], 0, 250, color=['#ffc75f','#ffc75f'], linestyle='dashed', linewidth=1)\n",
    "\n",
    "# calculate mean and std deviation lines\n",
    "data_mean = statistics.mean(average_lost_per_investor)\n",
    "std_dev = np.std(average_lost_per_investor)\n",
    "\n",
    "# build datapoints for showing std deviations\n",
    "mean_measures = [data_mean]\n",
    "for i in range(4):\n",
    "  mean_measures.append(data_mean + (i*std_dev))\n",
    "  mean_measures.append(data_mean - (i*std_dev))\n",
    "\n",
    "# plot the mean & std deviation lines in pink\n",
    "plt.vlines(mean_measures, 0, 250, color=['#ff6f91', '#ff6f91', '#ff6f91'], linestyle='dashed', linewidth=1)\n",
    "\n",
    "# print the values in the terminal\n",
    "print('The mean is $', round(statistics.mean(average_lost_per_investor)), \"lost per investor\")\n",
    "print('The median is $', round(statistics.median(average_lost_per_investor)), \"lost per investor\")\n",
    "print('The 25%, 50%, and 75% quartile values are', np.percentile(average_lost_per_investor, [25, 50, 75]))\n",
    "print('The mean and standard deviation values are', mean_measures)\n",
    "\n",
    "# # show the plot\n",
    "# plt.show()\n"
   ]
  },
  {
   "cell_type": "code",
   "execution_count": null,
   "metadata": {},
   "outputs": [],
   "source": []
  }
 ],
 "metadata": {
  "kernelspec": {
   "display_name": "Python 3",
   "language": "python",
   "name": "python3"
  },
  "language_info": {
   "codemirror_mode": {
    "name": "ipython",
    "version": 3
   },
   "file_extension": ".py",
   "mimetype": "text/x-python",
   "name": "python",
   "nbconvert_exporter": "python",
   "pygments_lexer": "ipython3",
   "version": "3.6.5"
  }
 },
 "nbformat": 4,
 "nbformat_minor": 2
}
